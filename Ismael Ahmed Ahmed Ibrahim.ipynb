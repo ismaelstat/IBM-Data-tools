{
  "metadata": {
    "kernelspec": {
      "name": "python",
      "display_name": "Python (Pyodide)",
      "language": "python"
    },
    "language_info": {
      "codemirror_mode": {
        "name": "python",
        "version": 3
      },
      "file_extension": ".py",
      "mimetype": "text/x-python",
      "name": "python",
      "nbconvert_exporter": "python",
      "pygments_lexer": "ipython3",
      "version": "3.8"
    }
  },
  "nbformat_minor": 4,
  "nbformat": 4,
  "cells": [
    {
      "cell_type": "markdown",
      "source": "# Data Science Tools and Ecosystem",
      "metadata": {}
    },
    {
      "cell_type": "markdown",
      "source": "## Introduction\nThis notebook provides an overview of the tools and libraries used in data science.",
      "metadata": {}
    },
    {
      "cell_type": "markdown",
      "source": "## Data Science Languages\n- Python\n- R\n- SQL",
      "metadata": {}
    },
    {
      "cell_type": "markdown",
      "source": "## Data Science Libraries\n- Pandas\n- NumPy\n- TensorFlow\n- Scikit-learn",
      "metadata": {}
    },
    {
      "cell_type": "markdown",
      "source": "## Data Science Tools\n| Tool             | Purpose                          |\n|------------------|----------------------------------|\n| Jupyter Notebook | Interactive coding environment   |\n| RStudio          | IDE for R                        |\n| Git              | Version control                  |",
      "metadata": {}
    },
    {
      "cell_type": "markdown",
      "source": "## Arithmetic Expressions\nIn this section, we will show examples of basic arithmetic operations.",
      "metadata": {}
    },
    {
      "cell_type": "code",
      "source": "# Multiplying and adding numbers\na = 5\nb = 10\nprint(\"Multiplication:\", a * b)\nprint(\"Addition:\", a + b)",
      "metadata": {
        "trusted": true
      },
      "outputs": [
        {
          "name": "stdout",
          "text": "Multiplication: 50\nAddition: 15\n",
          "output_type": "stream"
        }
      ],
      "execution_count": 1
    },
    {
      "cell_type": "code",
      "source": "# Convert minutes to hours\nminutes = 120\nhours = minutes / 60\nprint(hours, \"hours\")",
      "metadata": {
        "trusted": true
      },
      "outputs": [
        {
          "name": "stdout",
          "text": "2.0 hours\n",
          "output_type": "stream"
        }
      ],
      "execution_count": 3
    },
    {
      "cell_type": "markdown",
      "source": "## Objectives\n- Understand popular data science tools and libraries.\n- Learn basic arithmetic operations in Python.\n- Convert time from minutes to hours using code.",
      "metadata": {}
    },
    {
      "cell_type": "markdown",
      "source": "Author: [Ismael Ahhmed Ahmed Ibrahim]",
      "metadata": {}
    },
    {
      "cell_type": "code",
      "source": "",
      "metadata": {
        "trusted": true
      },
      "outputs": [],
      "execution_count": null
    }
  ]
}